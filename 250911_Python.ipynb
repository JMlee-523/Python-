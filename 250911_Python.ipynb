{
  "nbformat": 4,
  "nbformat_minor": 0,
  "metadata": {
    "colab": {
      "provenance": [],
      "authorship_tag": "ABX9TyMFg6Xvl+CPoh9Kb4wWXvnE",
      "include_colab_link": true
    },
    "kernelspec": {
      "name": "python3",
      "display_name": "Python 3"
    },
    "language_info": {
      "name": "python"
    }
  },
  "cells": [
    {
      "cell_type": "markdown",
      "metadata": {
        "id": "view-in-github",
        "colab_type": "text"
      },
      "source": [
        "<a href=\"https://colab.research.google.com/github/JMlee-523/Python-/blob/main/250911_Python.ipynb\" target=\"_parent\"><img src=\"https://colab.research.google.com/assets/colab-badge.svg\" alt=\"Open In Colab\"/></a>"
      ]
    },
    {
      "cell_type": "code",
      "execution_count": null,
      "metadata": {
        "colab": {
          "base_uri": "https://localhost:8080/"
        },
        "id": "RkES9MS_u1sx",
        "outputId": "3bdab101-7a21-4165-c546-8460c5b6e480"
      },
      "outputs": [
        {
          "output_type": "stream",
          "name": "stdout",
          "text": [
            "a가 10보다 작습니다\n"
          ]
        }
      ],
      "source": [
        "a= 1\n",
        "if a >10 :\n",
        "  print(\"a가 10보다 큽니다\")\n",
        "elif a==10:\n",
        "  print(\"a가 10입니다\")\n",
        "else:\n",
        "   print(\"a가 10보다 작습니다\")"
      ]
    },
    {
      "cell_type": "markdown",
      "source": [
        "## if, elif, else 구문\n",
        "\n",
        "\n",
        "1.   end와 같은 키워드는 사용되지 않는다\n",
        "2.   각 블록을 콜론 (:) 을 사용하여 구분한다\n",
        "3.   직접 Tab을 활용해 들여쓰기를 맞춰 준다\n",
        "\n"
      ],
      "metadata": {
        "id": "8l0bxcDpyexw"
      }
    },
    {
      "cell_type": "code",
      "source": [
        "for a in range(1,10,2):\n",
        "  b=a+a\n",
        "  print(a,\"* 2 = \", b)"
      ],
      "metadata": {
        "colab": {
          "base_uri": "https://localhost:8080/"
        },
        "id": "cQe8J9zAyd1h",
        "outputId": "d9e731c0-156e-44e0-ea4c-d44c0bef298f"
      },
      "execution_count": null,
      "outputs": [
        {
          "output_type": "stream",
          "name": "stdout",
          "text": [
            "1 * 2 =  2\n",
            "3 * 2 =  6\n",
            "5 * 2 =  10\n",
            "7 * 2 =  14\n",
            "9 * 2 =  18\n"
          ]
        }
      ]
    },
    {
      "cell_type": "markdown",
      "source": [
        "## For문\n",
        "\n",
        "1. `range(a, b, c)`를 활용하면 등차수열을 만들 수 있다  \n",
        "   - `a` = 시작값  \n",
        "   - `b` = 끝값 (포함 X)  \n",
        "   - `c` = 간격 (step)  \n",
        "   - 예시: `range(1, 10, 2)` → [1, 3, 5, 7, 9]  \n",
        "\n",
        "2. `for` 문 뒤에는 반드시 콜론(`:`)을 붙인다  \n",
        "\n",
        "3. 블록 안 코드는 반드시 들여쓰기(Tab 또는 스페이스 4칸)  \n",
        "\n",
        "---\n",
        "\n",
        "### range 내장 함수\n",
        "\n",
        "1. 순수 파이썬 내장 함수 (NumPy 필요 없음)  \n",
        "2. 끝값은 포함하지 않는다  \n",
        "   - 예시: `range(1, 3, 2)` → [1]  \n",
        "3. list 변환해서 확인 가능  \n",
        "   - `list(range(1, 6))` → [1, 2, 3, 4, 5]  \n"
      ],
      "metadata": {
        "id": "wF7XA_cYz2gs"
      }
    },
    {
      "cell_type": "code",
      "source": [
        "i=0\n",
        "t=4\n",
        "print(\"목표값은 \", t)\n",
        "while True:\n",
        "  i=i+1\n",
        "  print (\"현재 i의 값은 \",i)\n",
        "  if i==t:\n",
        "    print(\"i값이 \", t,\"에 도달\")\n",
        "    break"
      ],
      "metadata": {
        "colab": {
          "base_uri": "https://localhost:8080/"
        },
        "id": "xtp8FcgB09EI",
        "outputId": "531741df-7e9e-4eea-a342-f8c8ba901a6e"
      },
      "execution_count": null,
      "outputs": [
        {
          "output_type": "stream",
          "name": "stdout",
          "text": [
            "목표값은  4\n",
            "현재 i의 값은  1\n",
            "현재 i의 값은  2\n",
            "현재 i의 값은  3\n",
            "현재 i의 값은  4\n",
            "i값이  4 에 도달\n"
          ]
        }
      ]
    },
    {
      "cell_type": "markdown",
      "source": [
        "## While문\n",
        "\n",
        " 1. 마찬가지로 while true/break 를 활용한 무한루프 > 탈출 활용 가능\n",
        " 2. 들여쓰기 주의!\n",
        " 3. 무한루프>탈출과 조건부 루프 중 무엇이 효율적일지는 언제나 고민해볼 것"
      ],
      "metadata": {
        "id": "6lwVyAW_15sG"
      }
    },
    {
      "cell_type": "code",
      "source": [
        "def multitable(a,b):\n",
        "  for c in range(1,b+1,1):\n",
        "      print(a,\" * \",c, \" = \", a*c)\n",
        "\n",
        "multitable(2,5)"
      ],
      "metadata": {
        "colab": {
          "base_uri": "https://localhost:8080/"
        },
        "id": "ldgt0yvW2aqb",
        "outputId": "b6835c59-9497-47f7-c565-45f12dfb85fd"
      },
      "execution_count": null,
      "outputs": [
        {
          "output_type": "stream",
          "name": "stdout",
          "text": [
            "2  *  1  =  2\n",
            "2  *  2  =  4\n",
            "2  *  3  =  6\n",
            "2  *  4  =  8\n",
            "2  *  5  =  10\n",
            "2  *  6  =  12\n",
            "2  *  7  =  14\n",
            "2  *  8  =  16\n",
            "2  *  9  =  18\n",
            "2  *  10  =  20\n"
          ]
        }
      ]
    },
    {
      "cell_type": "markdown",
      "source": [
        "## 함수 정의\n",
        "\n",
        "1. `def`를 사용하여 함수를 정의할 수 있다\n",
        "2. 한 번 정의한 함수는 같은 노트북/파일 안에서 어디서든 불러올 수 있다\n",
        "3. 로컬 함수는 **다른 함수 내부에서 정의된 함수**를 의미하며, 이 경우 해당 함수 내부에서만 사용할 수 있다\n",
        "4. `print()`는 화면에 결과를 보여주는 것, `return`은 값을 함수 바깥으로 돌려주는 것임\n",
        "   - MATLAB의 `disp` ≈ Python의 `print`\n",
        "   - MATLAB의 `function y = f(x)` 출력값 ≈ Python의 `return`\n",
        "\n",
        "---\n",
        "\n",
        "## List Comprehension (리스트 컴프리헨션)\n",
        "\n",
        "1. 파이썬은 **표현식을 이해하는 언어**로, `for`와 `if`를 리스트 정의에 바로 넣을 수 있는 유연성이 있음\n",
        "2. 기본 구조:  \n",
        "   ```python\n",
        "   [표현식 for 변수 in 반복가능객체 if 조건]\n",
        "3. 예시: [x*2 for x in range(1,6)] → [2, 4, 6, 8, 10]\n",
        "\n",
        "         [x for x in range(1,11) if x % 2 == 0] → [2, 4, 6, 8, 10]\n",
        "\n",
        "4. 장점: 코드가 짧고 직관적, 성능도 일반 for문보다 빠른 경우가 많음\n",
        "\n",
        "5. 단점: 조건이 복잡해지면 가독성이 떨어지므로, 간단한 경우에만 사용하는 것이 좋음\n",
        "\n",
        "6. 중첩 for문도 가능하지만, 두 겹 이상 쓰면 가독성이 급격히 나빠짐 → 그럴 땐 일반 for문 추천\n",
        "\n"
      ],
      "metadata": {
        "id": "xPIo1Ggs5O5Q"
      }
    },
    {
      "cell_type": "markdown",
      "source": [
        "# 총정리\n",
        "\n",
        "1. MATLAB의 1:10 같은 수열은 파이썬에서 range(1,11) 혹은 list(range(1,11))로 구현\n",
        "\n",
        "2. 반복문은 for, while 모두 사용 가능하고, while True + break 패턴도 MATLAB처럼 활용 가능\n",
        "\n",
        "3. 파이썬은 **들여쓰기(indentation)**로 블록을 구분하며, end 같은 키워드는 없음\n",
        "\n",
        "4. 파이썬의 함수는 기본적으로 전역(global)에서 재사용 가능, 내부에 정의하면 로컬(local)\n",
        "\n",
        "5. 표현식을 활용한 리스트 컴프리헨션은 파이썬만의 강력한 특징으로, MATLAB의 벡터 연산 감각과 유사하게 사용할 수 있도록 이해할 것"
      ],
      "metadata": {
        "id": "Bkj8YkJP6v_l"
      }
    }
  ]
}